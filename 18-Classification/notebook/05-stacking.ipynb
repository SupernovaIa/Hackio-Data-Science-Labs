{
 "cells": [
  {
   "cell_type": "markdown",
   "metadata": {},
   "source": [
    "### Stacking\n",
    "\n",
    "Es una técnica para mejorar nuestros modelos de clasificación que consiste en juntar diferentes modelos para combinar sus predicciones y obtener un modelo mejor. Es como el ensamble de los ensambles.\n",
    "\n",
    "Tiene como inconveniente que no podemos ver el feature importance ni best model ni nada."
   ]
  },
  {
   "cell_type": "markdown",
   "metadata": {},
   "source": [
    "### SVM (support vector machine)\n",
    "\n",
    "Mejor que no lo usemos porque tarda la vida"
   ]
  },
  {
   "cell_type": "code",
   "execution_count": null,
   "metadata": {},
   "outputs": [],
   "source": []
  }
 ],
 "metadata": {
  "kernelspec": {
   "display_name": "proyecto7",
   "language": "python",
   "name": "python3"
  },
  "language_info": {
   "name": "python",
   "version": "3.12.7"
  }
 },
 "nbformat": 4,
 "nbformat_minor": 2
}
