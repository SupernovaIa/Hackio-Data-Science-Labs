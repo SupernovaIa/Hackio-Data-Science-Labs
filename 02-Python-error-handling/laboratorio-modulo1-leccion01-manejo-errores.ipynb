{
 "cells": [
  {
   "cell_type": "markdown",
   "metadata": {},
   "source": [
    "\n",
    "<div style=\"text-align: center;\">\n",
    "  <img src=\"https://github.com/Hack-io-Data/Imagenes/blob/main/01-LogosHackio/logo_celeste@4x.png?raw=true\" alt=\"esquema\" />\n",
    "</div>\n"
   ]
  },
  {
   "cell_type": "markdown",
   "metadata": {},
   "source": [
    "# Laboratorio de Python: manejo de errores."
   ]
  },
  {
   "cell_type": "markdown",
   "metadata": {},
   "source": [
    "## Ejercicio 1: División con manejo de excepciones\n",
    "\n",
    "Escribe un programa que pida al usuario dos números e intente dividirlos. Si el usuario ingresa un valor no numérico o intenta dividir por cero, maneja esas excepciones de manera adecuada. Asegúrate de mostrar un mensaje indicando si la división fue exitosa o no.\n"
   ]
  },
  {
   "cell_type": "code",
   "execution_count": 14,
   "metadata": {},
   "outputs": [
    {
     "name": "stdout",
     "output_type": "stream",
     "text": [
      "Solo puedes dividir números\n"
     ]
    }
   ],
   "source": [
    "try:\n",
    "    dividendo = float(input(\"Introduce el dividendo: \"))\n",
    "    divisor = float(input(\"Introduce el divisor: \"))\n",
    "    resultado = dividendo / divisor\n",
    "    print(\"Resultado: \", resultado)\n",
    "\n",
    "except ZeroDivisionError:\n",
    "    print(\"Has intentado dividir por cero crack\")\n",
    "\n",
    "except ValueError:\n",
    "    print(\"Solo puedes dividir números\")"
   ]
  },
  {
   "cell_type": "markdown",
   "metadata": {},
   "source": [
    "## Ejercicio 2: Acceso a archivos\n",
    "\n",
    "Escribe un programa que intente abrir un archivo llamado \"datos.txt\". Si el archivo no existe, captura la excepción y muestra un mensaje de error. Asegúrate de cerrar el archivo correctamente en la sección `finally`.\n"
   ]
  },
  {
   "cell_type": "code",
   "execution_count": 8,
   "metadata": {},
   "outputs": [
    {
     "name": "stdout",
     "output_type": "stream",
     "text": [
      "El archivo no existe\n"
     ]
    },
    {
     "ename": "AttributeError",
     "evalue": "'NoneType' object has no attribute 'close'",
     "output_type": "error",
     "traceback": [
      "\u001b[0;31m---------------------------------------------------------------------------\u001b[0m",
      "\u001b[0;31mAttributeError\u001b[0m                            Traceback (most recent call last)",
      "Cell \u001b[0;32mIn[8], line 8\u001b[0m\n\u001b[1;32m      6\u001b[0m     \u001b[38;5;28mprint\u001b[39m(\u001b[38;5;124m\"\u001b[39m\u001b[38;5;124mEl archivo no existe\u001b[39m\u001b[38;5;124m\"\u001b[39m)\n\u001b[1;32m      7\u001b[0m \u001b[38;5;28;01mfinally\u001b[39;00m:\n\u001b[0;32m----> 8\u001b[0m     \u001b[43marchivo\u001b[49m\u001b[38;5;241;43m.\u001b[39;49m\u001b[43mclose\u001b[49m()\n\u001b[1;32m      9\u001b[0m     \u001b[38;5;28mprint\u001b[39m(\u001b[38;5;124m\"\u001b[39m\u001b[38;5;124mArchivo cerrado\u001b[39m\u001b[38;5;124m\"\u001b[39m)\n",
      "\u001b[0;31mAttributeError\u001b[0m: 'NoneType' object has no attribute 'close'"
     ]
    }
   ],
   "source": [
    "try:\n",
    "    archivo = open(\"datos.txt\", \"r\")\n",
    "    contenido = archivo.read()\n",
    "    print(contenido)\n",
    "except FileNotFoundError:\n",
    "    print(\"El archivo no existe\")\n",
    "finally:\n",
    "    # Poner anotación\n",
    "    archivo.close()\n",
    "    print(\"Archivo cerrado\")"
   ]
  },
  {
   "cell_type": "markdown",
   "metadata": {},
   "source": [
    "## Ejercicio 3: Conversión de cadenas a enteros\n",
    "\n",
    "Escribe un programa que pida una lista de números separados por comas y convierta cada valor a un número entero. Maneja las excepciones para valores que no sean convertibles y asegúrate de informar si la conversión fue exitosa o no.\n"
   ]
  },
  {
   "cell_type": "code",
   "execution_count": 22,
   "metadata": {},
   "outputs": [
    {
     "name": "stdout",
     "output_type": "stream",
     "text": [
      "El término  no es entero. Se sustituirá por None\n",
      "[6, None, 664]\n"
     ]
    }
   ],
   "source": [
    "cadena = input(\"Introduce números separados por comas: \")\n",
    "cadena = cadena.replace(\" \", \"\")\n",
    "numeros = cadena.split(\",\")\n",
    "for i in range(len(numeros)):\n",
    "    try:\n",
    "        numeros[i] = int(numeros[i])\n",
    "    except ValueError:\n",
    "        print(f\"El término {numeros[i]} no es entero. Se sustituirá por None.\")\n",
    "        numeros[i] = None\n",
    "\n",
    "print(numeros)"
   ]
  },
  {
   "cell_type": "markdown",
   "metadata": {},
   "source": [
    "## Ejercicio 4: Cálculo del promedio con manejo de excepciones\n",
    "\n",
    "Escribe una función que reciba una lista de números y calcule su promedio. Si la lista está vacía, lanza una excepción personalizada y maneja el error adecuadamente.\n"
   ]
  },
  {
   "cell_type": "code",
   "execution_count": 32,
   "metadata": {},
   "outputs": [
    {
     "name": "stdout",
     "output_type": "stream",
     "text": [
      "3.0\n",
      "3.0\n"
     ]
    }
   ],
   "source": [
    "def promedio(lista):\n",
    "    try:\n",
    "        return sum(lista) / len(lista)\n",
    "\n",
    "    except ZeroDivisionError:\n",
    "        print(\"No introduzcas una lista vacía\")\n",
    "\n",
    "    except TypeError:\n",
    "        print(\"Introduce una lista de números\")\n",
    "\n",
    "print(promedio([3, 4, 5, -2,5]))\n",
    "print(promedio([3]))\n"
   ]
  },
  {
   "cell_type": "markdown",
   "metadata": {},
   "source": [
    "## Ejercicio 5: Conversión segura de números\n",
    "\n",
    "Escribe un programa que convierta una cadena a número flotante e intente realizar una operación aritmética. Si la conversión falla, maneja la excepción y continúa con el flujo normal."
   ]
  },
  {
   "cell_type": "code",
   "execution_count": 43,
   "metadata": {},
   "outputs": [
    {
     "name": "stdout",
     "output_type": "stream",
     "text": [
      "121.0\n",
      "2025.0\n",
      "Introduce un número, no palabras\n",
      "None\n"
     ]
    }
   ],
   "source": [
    "def operacion_cuadrado(num):\n",
    "    try:\n",
    "        num = float(num)\n",
    "        return num ** 2\n",
    "\n",
    "    except ValueError:\n",
    "        print(\"Introduce un número, no palabras\")\n",
    "\n",
    "print(operacion_cuadrado(\"-11\"))\n",
    "print(operacion_cuadrado(\"45\"))\n",
    "print(operacion_cuadrado(\"hola\"))\n"
   ]
  },
  {
   "cell_type": "markdown",
   "metadata": {},
   "source": [
    "## Ejercicio 6: Acceso a claves en diccionarios\n",
    "\n",
    "Escribe un programa que intente acceder a una clave específica en un diccionario. Si la clave no existe, maneja la excepción `KeyError` y muestra un mensaje indicando el problema."
   ]
  },
  {
   "cell_type": "code",
   "execution_count": 47,
   "metadata": {},
   "outputs": [
    {
     "name": "stdout",
     "output_type": "stream",
     "text": [
      "Alumno\n",
      "Profe\n",
      "La clave no existe\n"
     ]
    }
   ],
   "source": [
    "def acceder_clave(diccionario, clave):\n",
    "    try:\n",
    "        print(diccionario[clave])\n",
    "    except KeyError:\n",
    "        print(\"La clave no existe\")\n",
    "\n",
    "# Pruebas\n",
    "acceder_clave({\"Jeancha\": \"Profe\", \"Javi\": \"Alumno\"}, \"Javi\")\n",
    "acceder_clave({\"Jeancha\": \"Profe\", \"Javi\": \"Alumno\"}, \"Jeancha\")\n",
    "acceder_clave({\"Jeancha\": \"Profe\", \"Javi\": \"Alumno\"}, \"Ana\")"
   ]
  },
  {
   "cell_type": "markdown",
   "metadata": {},
   "source": [
    "\n",
    "## Ejercicio 7: Verificación de entradas de usuario\n",
    "\n",
    "Escribe un programa que pida al usuario que introduzca su edad. Si el usuario ingresa un valor no numérico o un valor fuera del rango esperado (por ejemplo, menor que 0 o mayor que 120), maneja las excepciones adecuadamente."
   ]
  },
  {
   "cell_type": "code",
   "execution_count": 55,
   "metadata": {},
   "outputs": [
    {
     "name": "stdout",
     "output_type": "stream",
     "text": [
      "Tu edad es: 120\n"
     ]
    }
   ],
   "source": [
    "try:\n",
    "    edad = int(input(\"Introduce tu edad: \"))\n",
    "\n",
    "    while edad < 0 or edad > 120:\n",
    "        edad = int(input(\"Introduce tu edad, pero de verdad, no algo mayor que 120: \"))\n",
    "\n",
    "    print(f\"Tu edad es: {edad}\")\n",
    "\n",
    "except ValueError:\n",
    "    print(\"Introduce un valor numérico entero\")\n"
   ]
  },
  {
   "cell_type": "markdown",
   "metadata": {},
   "source": [
    "## Ejercicio 8: Extracción de valores de una lista\n",
    "\n",
    "Escribe una función que intente acceder a un índice específico en una lista. Si el índice está fuera del rango, maneja la excepción `IndexError` y muestra un mensaje adecuado.\n"
   ]
  },
  {
   "cell_type": "code",
   "execution_count": 62,
   "metadata": {},
   "outputs": [
    {
     "name": "stdout",
     "output_type": "stream",
     "text": [
      "El índice excede las dimensiones de la lista\n",
      "El índice excede las dimensiones de la lista\n"
     ]
    },
    {
     "data": {
      "text/plain": [
       "-3"
      ]
     },
     "execution_count": 62,
     "metadata": {},
     "output_type": "execute_result"
    }
   ],
   "source": [
    "def acceso(lista, i):\n",
    "    try:\n",
    "        return lista[i]\n",
    "\n",
    "    except IndexError:\n",
    "        print(\"El índice excede las dimensiones de la lista\")\n",
    "\n",
    "acceso([-3, 2], 5)\n",
    "acceso([-3, 2], -5)\n",
    "acceso([-3, 2], 0)"
   ]
  }
 ],
 "metadata": {
  "kernelspec": {
   "display_name": "contenido",
   "language": "python",
   "name": "python3"
  },
  "language_info": {
   "codemirror_mode": {
    "name": "ipython",
    "version": 3
   },
   "file_extension": ".py",
   "mimetype": "text/x-python",
   "name": "python",
   "nbconvert_exporter": "python",
   "pygments_lexer": "ipython3",
   "version": "3.12.4"
  }
 },
 "nbformat": 4,
 "nbformat_minor": 2
}
