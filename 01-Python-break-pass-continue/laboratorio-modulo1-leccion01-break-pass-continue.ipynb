{
 "cells": [
  {
   "cell_type": "markdown",
   "metadata": {},
   "source": [
    "\n",
    "<div style=\"text-align: center;\">\n",
    "  <img src=\"https://github.com/Hack-io-Data/Imagenes/blob/main/01-LogosHackio/logo_celeste@4x.png?raw=true\" alt=\"esquema\" />\n",
    "</div>\n"
   ]
  },
  {
   "cell_type": "markdown",
   "metadata": {},
   "source": [
    "# Laboratorio de Python: break(), pass(), continue()"
   ]
  },
  {
   "cell_type": "markdown",
   "metadata": {},
   "source": [
    "## Ejercicio 1: Validación de datos numéricos. \n",
    "\n",
    "Escribe un bucle que lea una lista de números y detenga la ejecución si encuentra un valor negativo. Muestra un mensaje indicando el número negativo encontrado.\n"
   ]
  },
  {
   "cell_type": "code",
   "execution_count": 2,
   "metadata": {},
   "outputs": [
    {
     "name": "stdout",
     "output_type": "stream",
     "text": [
      "Número actual: 2\n",
      "Número actual: 3\n",
      "Número actual: 4\n",
      "Número actual: 5\n",
      "Número negativo encontrado: -3\n"
     ]
    }
   ],
   "source": [
    "numbers = [2, 3, 4, 5, -3, 6]\n",
    "\n",
    "for number in numbers:\n",
    "    if number < 0:\n",
    "        print(f\"Número negativo encontrado: {number}\")\n",
    "        break\n",
    "    print(f\"Número actual: {number}\")"
   ]
  },
  {
   "cell_type": "markdown",
   "metadata": {},
   "source": [
    "\n",
    "## Ejercicio 2: Filtrado de datos\n",
    "\n",
    "Escribe un bucle que imprima los números de una lista, pero que omita los números pares.\n"
   ]
  },
  {
   "cell_type": "code",
   "execution_count": 4,
   "metadata": {},
   "outputs": [
    {
     "name": "stdout",
     "output_type": "stream",
     "text": [
      "3\n",
      "5\n",
      "3\n",
      "11\n"
     ]
    }
   ],
   "source": [
    "numbers = [3, 4, 2, 5, 6, 3, -6, 10, 11]\n",
    "\n",
    "for number in numbers:\n",
    "    if number % 2 == 0:\n",
    "        continue\n",
    "    else:\n",
    "        print(number)"
   ]
  },
  {
   "cell_type": "markdown",
   "metadata": {},
   "source": [
    "## Ejercicio 3: Búsqueda de un valor\n",
    "\n",
    "Escribe un programa que busque un valor específico en una lista y detenga la búsqueda cuando lo encuentre. Si se encuentra, muestra un mensaje.\n"
   ]
  },
  {
   "cell_type": "code",
   "execution_count": 1,
   "metadata": {},
   "outputs": [
    {
     "name": "stdout",
     "output_type": "stream",
     "text": [
      "Número 9 concontrado: 9\n"
     ]
    }
   ],
   "source": [
    "def buscar_valor(numbers, target_number):\n",
    "    for number in numbers:\n",
    "        if number == target_number:\n",
    "            print(f\"Número {target_number} concontrado: {number}\")\n",
    "            break\n",
    "\n",
    "buscar_valor([3, 4, 5, 3, 1, 3, 6, 9, -13, -4], 9)"
   ]
  },
  {
   "cell_type": "markdown",
   "metadata": {},
   "source": [
    "## Ejercicio 4: Estructura de código incompleto\n",
    "\n",
    "Define una función que aún no tenga lógica implementada, pero que se pueda ejecutar sin errores utilizando `pass`."
   ]
  },
  {
   "cell_type": "code",
   "execution_count": 8,
   "metadata": {},
   "outputs": [],
   "source": [
    "def predictor_loteria():\n",
    "    pass"
   ]
  },
  {
   "cell_type": "markdown",
   "metadata": {},
   "source": [
    "## Ejercicio 5: Validación condicional\n",
    "\n",
    "Escribe un bucle que verifique una lista de nombres. Si encuentra un nombre vacío (cadena vacía), salta esa iteración y continúa con los demás nombres.\n"
   ]
  },
  {
   "cell_type": "code",
   "execution_count": 9,
   "metadata": {},
   "outputs": [
    {
     "name": "stdout",
     "output_type": "stream",
     "text": [
      "Víctor está verificado\n",
      "Yancha está verificado\n",
      "Jeancha está verificado\n",
      "Ana está verificado\n",
      "Alberto está verificado\n",
      "Silvia está verificado\n"
     ]
    }
   ],
   "source": [
    "nombres = [\"Víctor\", \"Yancha\", \"Jeancha\", \"\", \"Ana\", \"Alberto\", \"\", \"Silvia\"]\n",
    "\n",
    "for nombre in nombres:\n",
    "    if len(nombre) == 0:\n",
    "        continue\n",
    "    print(f\"{nombre} está verificado\")"
   ]
  },
  {
   "cell_type": "markdown",
   "metadata": {},
   "source": [
    "## Ejercicio 6: Búsqueda de claves en un diccionario\n",
    "\n",
    "Escribe un programa que recorra un diccionario y detenga la búsqueda si encuentra una clave específica pasada por el usuario.\n"
   ]
  },
  {
   "cell_type": "code",
   "execution_count": 11,
   "metadata": {},
   "outputs": [],
   "source": [
    "diccionario = {\"Data Science\": 10, \"Data Analytics\": 8, \"Marketing Data Strategy\": 8, \"IA developer\": 9}\n",
    "programa = input(\"Introduce el nombre de algún programa para ver su puntuación: \")\n",
    "claves = diccionario.keys()\n",
    "\n",
    "for clave in claves:\n",
    "    if clave == programa:\n",
    "        print(f\"Se ha encontrado que {programa} tiene un valor de: {diccionario[clave]}\")\n",
    "        break"
   ]
  },
  {
   "cell_type": "markdown",
   "metadata": {},
   "source": [
    "## Ejercicio 7: Bucle con múltiples excepciones\n",
    "\n",
    "Escribe un bucle que procese una lista de operaciones matemáticas, omitiendo las operaciones que intenten dividir por cero.\n"
   ]
  },
  {
   "cell_type": "code",
   "execution_count": 34,
   "metadata": {},
   "outputs": [
    {
     "name": "stdout",
     "output_type": "stream",
     "text": [
      "6\n",
      "64\n",
      "4\n",
      "0\n"
     ]
    }
   ],
   "source": [
    "lista = [\"2*3\", \"2/0\", \"4**3\", \"1+3\", \"6/0\", \"4*0\"]\n",
    "\n",
    "for element in lista:\n",
    "    try:\n",
    "        # eval() nos permite ejecutar strings como código\n",
    "        print(eval(element))\n",
    "    except ZeroDivisionError:\n",
    "        pass"
   ]
  },
  {
   "cell_type": "markdown",
   "metadata": {},
   "source": [
    "## Ejercicio 8: Búsqueda en una lista anidada\n",
    "\n",
    "Escribe un programa que recorra una lista de listas y detenga la búsqueda cuando encuentre un valor mayor a 50.\n"
   ]
  },
  {
   "cell_type": "code",
   "execution_count": 1,
   "metadata": {},
   "outputs": [
    {
     "name": "stdout",
     "output_type": "stream",
     "text": [
      "Se ha encontrado un número mayor que 50: 233\n"
     ]
    }
   ],
   "source": [
    "def busqueda(lista):\n",
    "\n",
    "    acabado = False\n",
    "\n",
    "    for numeros in lista:\n",
    "        for numero in numeros:\n",
    "            if numero > 50:\n",
    "                print(f\"Se ha encontrado un número mayor que 50: {numero}\")\n",
    "                acabado = True\n",
    "                break\n",
    "        if acabado:\n",
    "            break\n",
    "\n",
    "busqueda([ [8, -23, -143, 233], [2, 102], [2, 45, 90] ])"
   ]
  },
  {
   "cell_type": "markdown",
   "metadata": {},
   "source": [
    "## Ejercicio 9: Evaluación de series temporales\n",
    "\n",
    "Escribe un programa que recorra una lista de datos de series temporales y se detenga si encuentra un valor atípico (mayor a 100).\n"
   ]
  },
  {
   "cell_type": "code",
   "execution_count": 2,
   "metadata": {},
   "outputs": [
    {
     "name": "stdout",
     "output_type": "stream",
     "text": [
      "Se ha encontrado un valor atípico de valor:  123\n"
     ]
    }
   ],
   "source": [
    "def valor_atipico(datos):\n",
    "\n",
    "    for dato in datos:\n",
    "        if dato > 100:\n",
    "            print(\"Se ha encontrado un valor atípico de valor: \", dato)\n",
    "            break\n",
    "\n",
    "valor_atipico([23, 33, 45, 32, 33, 123, 30, 23])"
   ]
  },
  {
   "cell_type": "markdown",
   "metadata": {},
   "source": [
    "## Ejercicio 10: Iteración con valores faltantes\n",
    "\n",
    "Crea un bucle que recorra una lista de datos de ventas y salte los valores faltantes representados por `None`."
   ]
  },
  {
   "cell_type": "code",
   "execution_count": 27,
   "metadata": {},
   "outputs": [
    {
     "name": "stdout",
     "output_type": "stream",
     "text": [
      "Las ventas de hoy son:  34\n",
      "Las ventas de hoy son:  33\n",
      "Las ventas de hoy son:  23\n",
      "Las ventas de hoy son:  33\n",
      "Las ventas de hoy son:  56\n",
      "Las ventas de hoy son:  23\n",
      "Las ventas de hoy son:  33\n",
      "Las ventas de hoy son:  63\n",
      "Las ventas de hoy son:  45\n",
      "Las ventas de hoy son:  55\n",
      "Las ventas de hoy son:  69\n"
     ]
    }
   ],
   "source": [
    "ventas = [34, 33, 23, 33, None, 56, None, None, None, 23, 33, 63, None, 45, None, 55, 69]\n",
    "\n",
    "for venta in ventas:\n",
    "    if venta == None:\n",
    "        continue\n",
    "    print(\"Las ventas de hoy son: \", venta)"
   ]
  },
  {
   "cell_type": "markdown",
   "metadata": {},
   "source": [
    "## Ejercicio 11: Control de flujo en bucles anidados\n",
    "\n",
    "Escribe un bucle que recorra la matriz dada y se detenga si se encuentra un número negativo, mostrando su posición.\n",
    "\n"
   ]
  },
  {
   "cell_type": "code",
   "execution_count": 30,
   "metadata": {},
   "outputs": [
    {
     "name": "stdout",
     "output_type": "stream",
     "text": [
      "Se ha encontrado un valor negativo: -1\n",
      "La posición es fila 1, columna 1\n",
      "Se ha encontrado un valor negativo: -2\n",
      "La posición es fila 2, columna 2\n"
     ]
    }
   ],
   "source": [
    "matriz = [ [1, 2, 2], [0, -1, 3], [3, 4, -2] ]\n",
    "acabado = False\n",
    "\n",
    "for i, fila in enumerate(matriz):\n",
    "    for j, numero in enumerate(fila):\n",
    "        if numero < 0:\n",
    "            print(f\"Se ha encontrado un valor negativo: {numero}\")\n",
    "            print(f\"La posición es fila {i}, columna {j}\")\n",
    "            acabado = True\n",
    "            break\n",
    "    if acabado:\n",
    "        break"
   ]
  },
  {
   "cell_type": "markdown",
   "metadata": {},
   "source": [
    "## Ejercicio 12: Placeholder para funciones incompletas\n",
    "\n",
    "Escribe una función que tenga un bloque de control que aún no esté implementado, utilizando `pass` para que no genere errores."
   ]
  },
  {
   "cell_type": "code",
   "execution_count": 31,
   "metadata": {},
   "outputs": [],
   "source": [
    "def ganar_loteria(n):\n",
    "    for i in range(n):\n",
    "        pass\n",
    "    print(\"Función lista\")"
   ]
  },
  {
   "cell_type": "code",
   "execution_count": 33,
   "metadata": {},
   "outputs": [
    {
     "name": "stdout",
     "output_type": "stream",
     "text": [
      "Función lista\n"
     ]
    }
   ],
   "source": [
    "ganar_loteria(3)"
   ]
  }
 ],
 "metadata": {
  "kernelspec": {
   "display_name": "contenido",
   "language": "python",
   "name": "python3"
  },
  "language_info": {
   "codemirror_mode": {
    "name": "ipython",
    "version": 3
   },
   "file_extension": ".py",
   "mimetype": "text/x-python",
   "name": "python",
   "nbconvert_exporter": "python",
   "pygments_lexer": "ipython3",
   "version": "3.12.4"
  }
 },
 "nbformat": 4,
 "nbformat_minor": 2
}
